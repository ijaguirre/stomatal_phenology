{
 "cells": [
  {
   "cell_type": "markdown",
   "metadata": {
    "pycharm": {
     "name": "#%% md\n"
    }
   },
   "source": [
    "# Script to run models to test Stomata Resistance Parametrizations \n",
    "\n",
    "This script was based on USASK GEOG825 Assignments Material, PySUMMA Tutorial and  CUAHSI Virtual University snow modeling course 2019 by CUAHSI Virtual University snow modeling course 2019\n",
    "Links: \n",
    "- [USASK](https://www.usask.ca/)\n",
    "- [USASK GEOG825](https://research-groups.usask.ca/hydrology/training-education/intensive-courses/geog-825.php)\n",
    "- [PySUMMA Tutorial](https://pysumma.readthedocs.io/en/latest/tutorials.html)\n",
    "- [CUAHSI Snow Course](https://github.com/bartnijssen/cuahsi_vu)\n",
    "\n",
    "# Last  modification\n",
    "- Ignacio Aguirre (ignacio.aguirre@usask.ca)\n",
    "- April 21, 2022 \n",
    "\n",
    "This script runs on Hydroshare-Pysumma [https://www.hydroshare.org/apps/](https://www.hydroshare.org/apps/)"
   ]
  },
  {
   "cell_type": "code",
   "execution_count": null,
   "outputs": [],
   "source": [
    "# modules \n",
    "import os\n",
    "import pysumma as ps\n",
    "import xarray as xr\n",
    "import matplotlib.pyplot as plt\n",
    "import pandas as pd\n",
    "import glob\n",
    "\n",
    "# SUMMA.exe location\n",
    "executable = '/usr/local/bin/summa.exe'"
   ],
   "metadata": {
    "collapsed": false,
    "pycharm": {
     "name": "#%%\n"
    }
   }
  },
  {
   "cell_type": "code",
   "execution_count": 21,
   "metadata": {},
   "outputs": [
    {
     "name": "stdout",
     "output_type": "stream",
     "text": [
      "0 ElSaler\n",
      "1 Kruger\n",
      "2 UniMich\n",
      "3 Mopane\n",
      "4 Palang\n",
      "5 Sylvania\n",
      "6 Howlandm\n",
      "7 Espirra\n",
      "8 Bugac\n",
      "9 Loobos\n",
      "10 Tumba\n",
      "11 Hyytiala\n",
      "12 Blodgett\n",
      "13 Merbleue\n",
      "14 ElSaler2\n",
      "15 Harvard\n",
      "16 Hesse\n",
      "17 Amplero\n",
      "18 FortPeck\n",
      "19 Howard\n"
     ]
    }
   ],
   "source": [
    "all_files_manager = glob.glob('./settings/plumber/*',recursive=True)\n",
    "places = []\n",
    "for folder in all_files_manager:\n",
    "    place = os.path.split(folder)[-1]\n",
    "    places.append(place)\n",
    "\n",
    "for index, p in enumerate(places):\n",
    "    print (index, p)"
   ]
  },
  {
   "cell_type": "code",
   "execution_count": 22,
   "metadata": {
    "pycharm": {
     "name": "#%%\n"
    }
   },
   "outputs": [
    {
     "name": "stdout",
     "output_type": "stream",
     "text": [
      "['Harvard', 'Hesse', 'Amplero', 'FortPeck', 'Howard']\n",
      "Harvard\n",
      "['BallBerry', 'Jarvis', 'simpleResistance']\n",
      "Setting up simulations with parametrization BallBerry for stomResist\n",
      "Setting up simulations with parametrization Jarvis for stomResist\n",
      "Setting up simulations with parametrization simpleResistance for stomResist\n",
      "Hesse\n",
      "['BallBerry', 'Jarvis', 'simpleResistance']\n",
      "Setting up simulations with parametrization BallBerry for stomResist\n",
      "Setting up simulations with parametrization Jarvis for stomResist\n",
      "Setting up simulations with parametrization simpleResistance for stomResist\n",
      "Amplero\n",
      "['BallBerry', 'Jarvis', 'simpleResistance']\n",
      "Setting up simulations with parametrization BallBerry for stomResist\n",
      "Setting up simulations with parametrization Jarvis for stomResist\n",
      "Setting up simulations with parametrization simpleResistance for stomResist\n",
      "FortPeck\n",
      "['BallBerry', 'Jarvis', 'simpleResistance']\n",
      "Setting up simulations with parametrization BallBerry for stomResist\n",
      "Setting up simulations with parametrization Jarvis for stomResist\n",
      "Setting up simulations with parametrization simpleResistance for stomResist\n",
      "Howard\n",
      "['BallBerry', 'Jarvis', 'simpleResistance']\n",
      "Setting up simulations with parametrization BallBerry for stomResist\n",
      "Setting up simulations with parametrization Jarvis for stomResist\n",
      "Setting up simulations with parametrization simpleResistance for stomResist\n"
     ]
    }
   ],
   "source": [
    "\n",
    "print(places)\n",
    "version='5.0'\n",
    "for place in places:\n",
    "    print(place)\n",
    "    # Basic\n",
    "    file_manager_place = './settings/plumber/{}/summa_zFileManager_{}.txt'.format(place, place)\n",
    "    s_place = ps.Simulation(executable, file_manager_place)\n",
    "    if not os.path.exists(s_place.manager['outputPath'].value):\n",
    "        os.makedirs(s_place.manager['outputPath'].value)\n",
    "\n",
    "    decision = 'stomResist'\n",
    "    parametrizations = s_place.decisions[decision].available_options.copy()\n",
    "    parametrizations.remove('BallBerryFlex')\n",
    "    parametrizations.remove('BallBerryTest')\n",
    "    print(parametrizations)\n",
    "\n",
    "    for parametrization in parametrizations:\n",
    "        # Print what we're doing\n",
    "        print('Setting up simulations with parametrization ' + parametrization + ' for ' + decision)\n",
    "\n",
    "        # reset the simulation\n",
    "        s_place.reset()\n",
    "\n",
    "        # Set the model decision\n",
    "        s_place.decisions[decision] = parametrization\n",
    "\n",
    "        s_place.run('local', run_suffix='CAPSTONE_' + place + '_' + decision + '_' + parametrization + '_' + version)\n",
    "        \n",
    "        #Name file example\n",
    "        file = place + '__CAPSTONE' + place + '_' + decision + '_' + parametrization + '_' + version + '_timestep.nc'\n"
   ]
  }
 ],
 "metadata": {
  "kernelspec": {
   "display_name": "Python 3",
   "language": "python",
   "name": "python3"
  },
  "language_info": {
   "codemirror_mode": {
    "name": "ipython",
    "version": 3
   },
   "file_extension": ".py",
   "mimetype": "text/x-python",
   "name": "python",
   "nbconvert_exporter": "python",
   "pygments_lexer": "ipython3",
   "version": "3.8.6"
  },
  "pycharm": {
   "stem_cell": {
    "cell_type": "raw",
    "source": [],
    "metadata": {
     "collapsed": false
    }
   }
  }
 },
 "nbformat": 4,
 "nbformat_minor": 4
}